{
 "cells": [
  {
   "cell_type": "markdown",
   "metadata": {},
   "source": [
    "Forcasting in Engineering und Management"
   ]
  },
  {
   "cell_type": "code",
   "execution_count": 17,
   "metadata": {},
   "outputs": [],
   "source": [
    "# Cell: FoEM_Projekt.ipynb - Step 0: Imports & Config\n",
    "\n",
    "# Core packages\n",
    "import pandas as pd\n",
    "import numpy as np\n",
    "import yfinance as yf\n",
    "import matplotlib.pyplot as plt\n",
    "import seaborn as sns\n",
    "import datetime as dt\n",
    "from datetime import timedelta\n",
    "\n",
    "# Statistical & forecasting tools\n",
    "import statsmodels.api as sm\n",
    "from statsmodels.tsa.seasonal import seasonal_decompose\n",
    "from statsmodels.tsa.stattools import adfuller\n",
    "\n",
    "# For model evaluation\n",
    "from sklearn.metrics import mean_squared_error, mean_absolute_error\n",
    "\n",
    "# For dynamic adjustment and logging\n",
    "import os\n",
    "import warnings\n",
    "warnings.filterwarnings(\"ignore\")\n",
    "\n",
    "import logging\n",
    "logging.basicConfig(level=logging.INFO, format='%(asctime)s - %(levelname)s - %(message)s')\n"
   ]
  },
  {
   "cell_type": "code",
   "execution_count": 18,
   "metadata": {},
   "outputs": [
    {
     "name": "stderr",
     "output_type": "stream",
     "text": [
      "2025-04-06 14:44:55,471 - INFO - Fetching data from 2020-04-07 to 2025-04-06 for 5 years.\n"
     ]
    }
   ],
   "source": [
    "# Define tickers for each country's major index\n",
    "tickers = {\n",
    "    \"USA\": \"^GSPC\",         # S&P 500\n",
    "    \"Germany\": \"^GDAXI\",    # DAX\n",
    "    \"India\": \"^NSEI\",       # Nifty 50\n",
    "    \"China\": \"000001.SS\",   # SSE Composite\n",
    "    \"Brazil\": \"^BVSP\"       # Bovespa\n",
    "}\n",
    "\n",
    "# Set number of years of data to fetch (adjust this variable)\n",
    "years_back = 5  # Options: 1, 5, 10, 15, 20\n",
    "\n",
    "# Compute date range for fetching data\n",
    "end_date = dt.datetime.today()\n",
    "start_date = end_date - timedelta(days=years_back * 365)\n",
    "\n",
    "# Log the setup\n",
    "logging.info(f\"Fetching data from {start_date.date()} to {end_date.date()} for {years_back} years.\")\n"
   ]
  },
  {
   "cell_type": "code",
   "execution_count": 19,
   "metadata": {},
   "outputs": [
    {
     "name": "stderr",
     "output_type": "stream",
     "text": [
      "2025-04-06 14:44:55,503 - INFO - Downloading data for USA (^GSPC)...\n"
     ]
    },
    {
     "name": "stdout",
     "output_type": "stream",
     "text": [
      "YF.download() has changed argument auto_adjust default to True\n"
     ]
    },
    {
     "name": "stderr",
     "output_type": "stream",
     "text": [
      "[*********************100%***********************]  1 of 1 completed\n",
      "2025-04-06 14:45:03,026 - INFO - USA: 1256 rows of data fetched.\n",
      "2025-04-06 14:45:03,027 - INFO - Downloading data for Germany (^GDAXI)...\n",
      "[*********************100%***********************]  1 of 1 completed\n",
      "2025-04-06 14:45:03,249 - INFO - Germany: 1274 rows of data fetched.\n",
      "2025-04-06 14:45:03,250 - INFO - Downloading data for India (^NSEI)...\n",
      "[*********************100%***********************]  1 of 1 completed\n",
      "2025-04-06 14:45:03,711 - INFO - India: 1237 rows of data fetched.\n",
      "2025-04-06 14:45:03,712 - INFO - Downloading data for China (000001.SS)...\n",
      "[*********************100%***********************]  1 of 1 completed\n",
      "2025-04-06 14:45:04,133 - INFO - China: 1211 rows of data fetched.\n",
      "2025-04-06 14:45:04,134 - INFO - Downloading data for Brazil (^BVSP)...\n",
      "[*********************100%***********************]  1 of 1 completed\n",
      "2025-04-06 14:45:04,445 - INFO - Brazil: 1243 rows of data fetched.\n"
     ]
    },
    {
     "name": "stdout",
     "output_type": "stream",
     "text": [
      "Data successfully fetched for: ['USA', 'Germany', 'India', 'China', 'Brazil']\n"
     ]
    }
   ],
   "source": [
    "# Create an empty dictionary to store data for each country\n",
    "stock_data = {}\n",
    "\n",
    "# Loop through each ticker and download data\n",
    "for country, ticker in tickers.items():\n",
    "    logging.info(f\"Downloading data for {country} ({ticker})...\")\n",
    "    data = yf.download(ticker, start=start_date, end=end_date)\n",
    "    \n",
    "    # Make sure data is not empty\n",
    "    if not data.empty:\n",
    "        stock_data[country] = data\n",
    "        logging.info(f\"{country}: {data.shape[0]} rows of data fetched.\")\n",
    "    else:\n",
    "        logging.warning(f\"No data found for {country} ({ticker}).\")\n",
    "\n",
    "# Optional: Show the keys (countries) for which data was downloaded\n",
    "print(\"Data successfully fetched for:\", list(stock_data.keys()))\n"
   ]
  },
  {
   "cell_type": "code",
   "execution_count": 20,
   "metadata": {},
   "outputs": [
    {
     "name": "stdout",
     "output_type": "stream",
     "text": [
      "\n",
      "📈 USA (^GSPC) - Shape: (1256, 5)\n",
      "Price             Close         High          Low         Open      Volume\n",
      "Ticker            ^GSPC        ^GSPC        ^GSPC        ^GSPC       ^GSPC\n",
      "Date                                                                      \n",
      "2020-04-07  2659.409912  2756.889893  2657.669922  2738.649902  7050410000\n",
      "2020-04-08  2749.979980  2760.750000  2663.300049  2685.000000  5875710000\n",
      "2020-04-09  2789.820068  2818.570068  2762.360107  2776.989990  7899550000\n",
      "2020-04-13  2761.629883  2782.459961  2721.169922  2782.459961  5319530000\n",
      "2020-04-14  2846.060059  2851.850098  2805.100098  2805.100098  5615730000\n",
      "\n",
      "Missing Values:\n",
      " Price   Ticker\n",
      "Close   ^GSPC     0\n",
      "High    ^GSPC     0\n",
      "Low     ^GSPC     0\n",
      "Open    ^GSPC     0\n",
      "Volume  ^GSPC     0\n",
      "dtype: int64\n",
      "--------------------------------------------------------------------------------\n",
      "\n",
      "📈 Germany (^GDAXI) - Shape: (1274, 5)\n",
      "Price              Close          High           Low          Open     Volume\n",
      "Ticker            ^GDAXI        ^GDAXI        ^GDAXI        ^GDAXI     ^GDAXI\n",
      "Date                                                                         \n",
      "2020-04-07  10356.700195  10590.410156  10225.019531  10464.110352  149513100\n",
      "2020-04-08  10332.889648  10340.790039  10198.219727  10301.559570  102430700\n",
      "2020-04-09  10564.740234  10649.790039  10311.700195  10490.650391  134477100\n",
      "2020-04-14  10696.559570  10820.169922  10658.959961  10733.969727  106043700\n",
      "2020-04-15  10279.759766  10678.190430  10243.110352  10678.190430  133088500\n",
      "\n",
      "Missing Values:\n",
      " Price   Ticker\n",
      "Close   ^GDAXI    0\n",
      "High    ^GDAXI    0\n",
      "Low     ^GDAXI    0\n",
      "Open    ^GDAXI    0\n",
      "Volume  ^GDAXI    0\n",
      "dtype: int64\n",
      "--------------------------------------------------------------------------------\n",
      "\n",
      "📈 India (^NSEI) - Shape: (1237, 5)\n",
      "Price             Close         High          Low         Open  Volume\n",
      "Ticker            ^NSEI        ^NSEI        ^NSEI        ^NSEI   ^NSEI\n",
      "Date                                                                  \n",
      "2020-04-07  8792.200195  8819.400391  8360.950195  8446.299805  814200\n",
      "2020-04-08  8748.750000  9131.700195  8653.900391  8688.900391  896500\n",
      "2020-04-09  9111.900391  9128.349609  8904.549805  8973.049805  742100\n",
      "2020-04-13  8993.849609  9112.049805  8912.400391  9103.950195  644000\n",
      "2020-04-15  8925.299805  9261.200195  8874.099609  9196.400391  879100\n",
      "\n",
      "Missing Values:\n",
      " Price   Ticker\n",
      "Close   ^NSEI     0\n",
      "High    ^NSEI     0\n",
      "Low     ^NSEI     0\n",
      "Open    ^NSEI     0\n",
      "Volume  ^NSEI     0\n",
      "dtype: int64\n",
      "--------------------------------------------------------------------------------\n",
      "\n",
      "📈 China (000001.SS) - Shape: (1211, 5)\n",
      "Price             Close         High          Low         Open    Volume\n",
      "Ticker        000001.SS    000001.SS    000001.SS    000001.SS 000001.SS\n",
      "Date                                                                    \n",
      "2020-04-07  2820.762939  2823.277100  2801.839111  2806.968018    270200\n",
      "2020-04-08  2815.368896  2823.214111  2800.295898  2805.916992    243500\n",
      "2020-04-09  2825.904053  2832.395020  2820.433105  2825.839111    238200\n",
      "2020-04-10  2796.631104  2833.014893  2789.976074  2827.187012    233500\n",
      "2020-04-13  2783.048096  2792.891113  2774.081055  2784.597900    177100\n",
      "\n",
      "Missing Values:\n",
      " Price   Ticker   \n",
      "Close   000001.SS    0\n",
      "High    000001.SS    0\n",
      "Low     000001.SS    0\n",
      "Open    000001.SS    0\n",
      "Volume  000001.SS    0\n",
      "dtype: int64\n",
      "--------------------------------------------------------------------------------\n",
      "\n",
      "📈 Brazil (^BVSP) - Shape: (1243, 5)\n",
      "Price         Close     High      Low     Open    Volume\n",
      "Ticker        ^BVSP    ^BVSP    ^BVSP    ^BVSP     ^BVSP\n",
      "Date                                                    \n",
      "2020-04-07  76358.0  79855.0  74078.0  74078.0  11286500\n",
      "2020-04-08  78625.0  79058.0  76115.0  76335.0  10206300\n",
      "2020-04-09  77682.0  80428.0  77457.0  78640.0  10748700\n",
      "2020-04-13  78836.0  78836.0  76405.0  77682.0   7651300\n",
      "2020-04-14  79918.0  81668.0  78848.0  78848.0   8593600\n",
      "\n",
      "Missing Values:\n",
      " Price   Ticker\n",
      "Close   ^BVSP     0\n",
      "High    ^BVSP     0\n",
      "Low     ^BVSP     0\n",
      "Open    ^BVSP     0\n",
      "Volume  ^BVSP     0\n",
      "dtype: int64\n",
      "--------------------------------------------------------------------------------\n"
     ]
    }
   ],
   "source": [
    "for country, df in stock_data.items():\n",
    "    print(f\"\\n📈 {country} ({tickers[country]}) - Shape: {df.shape}\")\n",
    "    print(df.head())\n",
    "    print(\"\\nMissing Values:\\n\", df.isnull().sum())\n",
    "    print(\"-\" * 80)"
   ]
  },
  {
   "cell_type": "markdown",
   "metadata": {},
   "source": [
    "### Initial Data Exploration (EDA)\n",
    "\n",
    "We begin by performing a basic exploratory analysis on each country's stock index dataset:\n",
    "\n",
    "- ✅ **Preview the data** using `.head()`\n",
    "- ✅ **Check shape** of the dataset (number of rows and columns)\n",
    "- ✅ **Verify if any missing values** exist (important before modeling)\n",
    "\n",
    "📊 Summary:\n",
    "\n",
    "| Country  | Ticker       | Rows | Columns | Missing Values |\n",
    "|----------|--------------|------|---------|----------------|\n",
    "| USA      | ^GSPC        | 1256 | 5       | 0              |\n",
    "| Germany  | ^GDAXI       | 1274 | 5       | 0              |\n",
    "| India    | ^NSEI        | 1237 | 5       | 0              |\n",
    "| China    | 000001.SS    | 1211 | 5       | 0              |\n",
    "| Brazil   | ^BVSP        | 1243 | 5       | 0              |\n",
    "\n",
    "All datasets are clean and ready for visualization and modeling.\n"
   ]
  },
  {
   "cell_type": "code",
   "execution_count": null,
   "metadata": {},
   "outputs": [],
   "source": []
  }
 ],
 "metadata": {
  "kernelspec": {
   "display_name": "venv",
   "language": "python",
   "name": "python3"
  },
  "language_info": {
   "codemirror_mode": {
    "name": "ipython",
    "version": 3
   },
   "file_extension": ".py",
   "mimetype": "text/x-python",
   "name": "python",
   "nbconvert_exporter": "python",
   "pygments_lexer": "ipython3",
   "version": "3.12.2"
  }
 },
 "nbformat": 4,
 "nbformat_minor": 2
}
